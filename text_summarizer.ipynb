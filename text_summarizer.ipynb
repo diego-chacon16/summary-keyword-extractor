{
 "cells": [
  {
   "cell_type": "markdown",
   "id": "3405675b-b4ba-4789-b97a-020185feae97",
   "metadata": {},
   "source": [
    "# Text Summarization with Sumy\n",
    "\n",
    "#### What is Sumy?\n",
    "\n",
    "+ Is a simple library used for extracting summary from HTML pages or plain texts\n",
    "+ The package also contains simple evaluation framework for text summaries\n",
    "\n",
    "#### Goal\n",
    "\n",
    "+ To build an extractive text summarizer highlighting the key points of the article\n",
    "\n",
    "#### Approach\n",
    "\n",
    "+ Import libraries and data\n",
    "+ Create a function to wrap the text and easier to read\n",
    "+ Build the summarizer and parser using sumy packages\n",
    "+ Add them to the dataframe\n",
    "+ Clean the data and remove unwanted or unnecessary character\n",
    "+ Using keybert, extract keywords from the clean summary"
   ]
  },
  {
   "cell_type": "markdown",
   "id": "ed6d7287-5039-4915-aaec-1ae445387658",
   "metadata": {},
   "source": [
    "\n",
    "# VADER\n",
    "\n",
    "### What is VADER?\n",
    "\n",
    "+ VADER (Valence Aware Dictionary and sEntiment Reasoner) is a lexicon and rule-based sentiment analysis tool that is specifically attuned to sentiments expressed in social media. (All credits go to https://github.com/cjhutto/vaderSentiment)\n",
    "\n",
    "### How is it scored?\n",
    "\n",
    "+ The compound score is computed by summing the valence scores of each word in the lexicon, adjusted according to the rules, and then normalized to be between -1 (most extreme negative) and +1 (most extreme positive). This is the most useful metric if you want a single unidimensional measure of sentiment for a given sentence. Calling it a 'normalized, weighted composite score' is accurate. (All credits go to https://github.com/cjhutto/vaderSentiment)\n",
    "\n",
    "# Keybert\n",
    "\n",
    "### What is KeyBERT?\n",
    "\n",
    "+ KeyBERT is a minimal and easy-to-use keyword extraction technique that leverages BERT embeddings to create keywords and keyphrases that are most similar to a document. (All credits go to https://github.com/MaartenGr/KeyBERT)"
   ]
  },
  {
   "cell_type": "code",
   "execution_count": 1,
   "id": "e73def47-925b-4e8a-8956-0913b70d81a0",
   "metadata": {},
   "outputs": [
    {
     "data": {
      "text/html": [
       "<div>\n",
       "<style scoped>\n",
       "    .dataframe tbody tr th:only-of-type {\n",
       "        vertical-align: middle;\n",
       "    }\n",
       "\n",
       "    .dataframe tbody tr th {\n",
       "        vertical-align: top;\n",
       "    }\n",
       "\n",
       "    .dataframe thead th {\n",
       "        text-align: right;\n",
       "    }\n",
       "</style>\n",
       "<table border=\"1\" class=\"dataframe\">\n",
       "  <thead>\n",
       "    <tr style=\"text-align: right;\">\n",
       "      <th></th>\n",
       "      <th>text</th>\n",
       "      <th>labels</th>\n",
       "    </tr>\n",
       "  </thead>\n",
       "  <tbody>\n",
       "    <tr>\n",
       "      <th>0</th>\n",
       "      <td>Ad sales boost Time Warner profit\\n\\nQuarterly...</td>\n",
       "      <td>business</td>\n",
       "    </tr>\n",
       "    <tr>\n",
       "      <th>1</th>\n",
       "      <td>Dollar gains on Greenspan speech\\n\\nThe dollar...</td>\n",
       "      <td>business</td>\n",
       "    </tr>\n",
       "    <tr>\n",
       "      <th>2</th>\n",
       "      <td>Yukos unit buyer faces loan claim\\n\\nThe owner...</td>\n",
       "      <td>business</td>\n",
       "    </tr>\n",
       "    <tr>\n",
       "      <th>3</th>\n",
       "      <td>High fuel prices hit BA's profits\\n\\nBritish A...</td>\n",
       "      <td>business</td>\n",
       "    </tr>\n",
       "    <tr>\n",
       "      <th>4</th>\n",
       "      <td>Pernod takeover talk lifts Domecq\\n\\nShares in...</td>\n",
       "      <td>business</td>\n",
       "    </tr>\n",
       "  </tbody>\n",
       "</table>\n",
       "</div>"
      ],
      "text/plain": [
       "                                                text    labels\n",
       "0  Ad sales boost Time Warner profit\\n\\nQuarterly...  business\n",
       "1  Dollar gains on Greenspan speech\\n\\nThe dollar...  business\n",
       "2  Yukos unit buyer faces loan claim\\n\\nThe owner...  business\n",
       "3  High fuel prices hit BA's profits\\n\\nBritish A...  business\n",
       "4  Pernod takeover talk lifts Domecq\\n\\nShares in...  business"
      ]
     },
     "execution_count": 1,
     "metadata": {},
     "output_type": "execute_result"
    }
   ],
   "source": [
    "import pandas as pd\n",
    "import numpy as np\n",
    "import matplotlib.pyplot as plt\n",
    "import seaborn as sns\n",
    "import textwrap\n",
    "\n",
    "df = pd.read_csv('data/bbc_text.csv')\n",
    "df.head(5)"
   ]
  },
  {
   "cell_type": "code",
   "execution_count": 2,
   "id": "c80f75e5-e076-4998-afb4-408f0da00e3b",
   "metadata": {},
   "outputs": [
    {
     "name": "stdout",
     "output_type": "stream",
     "text": [
      "<class 'pandas.core.frame.DataFrame'>\n",
      "RangeIndex: 2225 entries, 0 to 2224\n",
      "Data columns (total 2 columns):\n",
      " #   Column  Non-Null Count  Dtype \n",
      "---  ------  --------------  ----- \n",
      " 0   text    2225 non-null   object\n",
      " 1   labels  2225 non-null   object\n",
      "dtypes: object(2)\n",
      "memory usage: 34.9+ KB\n"
     ]
    }
   ],
   "source": [
    "# looking at the data landscape and the data types\n",
    "\n",
    "df.info()"
   ]
  },
  {
   "cell_type": "code",
   "execution_count": 3,
   "id": "76bbc1bb-0a12-422e-afb1-944dd8c0c7ad",
   "metadata": {},
   "outputs": [],
   "source": [
    "# switching df['text'] to string from object \n",
    "\n",
    "df['text'] = pd.Series(df['text'], dtype = 'string')"
   ]
  },
  {
   "cell_type": "code",
   "execution_count": 4,
   "id": "2cc9c927-0b52-4bbe-8203-132e9ec717a4",
   "metadata": {},
   "outputs": [],
   "source": [
    "# filtering out labels that are not business and grabbing a random simple\n",
    "\n",
    "doc = df[df['labels'] == 'entertainment']['text'].sample(random_state = 123)"
   ]
  },
  {
   "cell_type": "code",
   "execution_count": 5,
   "id": "187b682c-47a1-46a2-bf9d-be07e98e2aea",
   "metadata": {},
   "outputs": [],
   "source": [
    "# using textwrap make the text more visually appealing\n",
    "\n",
    "def wrap(x):\n",
    "    return textwrap.fill(x, replace_whitespace = False, fix_sentence_endings = True)"
   ]
  },
  {
   "cell_type": "code",
   "execution_count": 6,
   "id": "2dfd40e9-a304-4f3b-9bbe-302719c0c07b",
   "metadata": {},
   "outputs": [],
   "source": [
    "from sumy.summarizers.text_rank import TextRankSummarizer\n",
    "from sumy.summarizers.lsa import LsaSummarizer\n",
    "from sumy.parsers.plaintext import PlaintextParser\n",
    "from sumy.nlp.tokenizers import Tokenizer"
   ]
  },
  {
   "cell_type": "code",
   "execution_count": 7,
   "id": "5d0b8cc5-c9da-40ab-9a73-2537af604fee",
   "metadata": {},
   "outputs": [],
   "source": [
    "summarizer = TextRankSummarizer() # assigning Textrank summarizer to variable\n",
    "parser = PlaintextParser.from_string(doc.iloc[0].split('\\n', 1)[1], Tokenizer('english')) # passing the first document through the parser"
   ]
  },
  {
   "cell_type": "code",
   "execution_count": 8,
   "id": "12282337-6831-4909-8da7-c250e4321f07",
   "metadata": {},
   "outputs": [],
   "source": [
    "summary = summarizer(parser.document, sentences_count = 5) # summarizing to 5 sentences"
   ]
  },
  {
   "cell_type": "code",
   "execution_count": 9,
   "id": "014d3e78-45ca-476f-98a7-dfd7d81d225f",
   "metadata": {},
   "outputs": [
    {
     "data": {
      "text/plain": [
       "(<Sentence: The 21-year-old singer won the award for best female artist, with Australian Idol runner-up Shannon Noll taking the title of best male at the ceremony.>,\n",
       " <Sentence: As well as best female, Goodrem also took home the Pepsi Viewers Choice Award, whilst Green Day bagged the prize for best rock video for American Idiot.>,\n",
       " <Sentence: The Black Eyed Peas won awards for best R 'n' B video and sexiest video, both for Hey Mama.>,\n",
       " <Sentence: Local singer and songwriter Missy Higgins took the title of breakthrough artist of the year, with Australian Idol winner Guy Sebastian taking the honours for best pop video.>,\n",
       " <Sentence: The ceremony was held at the Luna Park fairground in Sydney Harbour and was hosted by the Osbourne family.>)"
      ]
     },
     "execution_count": 9,
     "metadata": {},
     "output_type": "execute_result"
    }
   ],
   "source": [
    "summary # printing out the summary"
   ]
  },
  {
   "cell_type": "code",
   "execution_count": 10,
   "id": "7d282613-4e0d-4b47-bba2-74e7d7366c80",
   "metadata": {},
   "outputs": [
    {
     "name": "stdout",
     "output_type": "stream",
     "text": [
      "The 21-year-old singer won the award for best female artist, with\n",
      "Australian Idol runner-up Shannon Noll taking the title of best male\n",
      "at the ceremony.\n",
      "As well as best female, Goodrem also took home the Pepsi Viewers\n",
      "Choice Award, whilst Green Day bagged the prize for best rock video\n",
      "for American Idiot.\n",
      "The Black Eyed Peas won awards for best R 'n' B video and sexiest\n",
      "video, both for Hey Mama.\n",
      "Local singer and songwriter Missy Higgins took the title of\n",
      "breakthrough artist of the year, with Australian Idol winner Guy\n",
      "Sebastian taking the honours for best pop video.\n",
      "The ceremony was held at the Luna Park fairground in Sydney Harbour\n",
      "and was hosted by the Osbourne family.\n"
     ]
    }
   ],
   "source": [
    "# after adding the wrap function, here is how it looks \n",
    "\n",
    "for s in summary:\n",
    "    print(wrap(str(s))) # printing out the same summary as above, but using the wrap definition to make it more readable"
   ]
  },
  {
   "cell_type": "code",
   "execution_count": 11,
   "id": "7c927e87-0ad6-4dcb-b9aa-b580c77c7abb",
   "metadata": {},
   "outputs": [
    {
     "name": "stdout",
     "output_type": "stream",
     "text": [
      "Goodrem, known in both Britain and Australia for her role as Nina\n",
      "Tucker in TV soap Neighbours, also performed a duet with boyfriend\n",
      "Brian McFadden.\n",
      "Other winners included Green Day, voted best group, and the Black Eyed\n",
      "Peas.\n",
      "Goodrem, Green Day and the Black Eyed Peas took home two awards each.\n",
      "As well as best female, Goodrem also took home the Pepsi Viewers\n",
      "Choice Award, whilst Green Day bagged the prize for best rock video\n",
      "for American Idiot.\n",
      "Artists including Carmen Electra, Missy Higgins, Kelly Osbourne, Green\n",
      "Day, Ja Rule and Natalie Imbruglia gave live performances at the\n",
      "event.\n"
     ]
    }
   ],
   "source": [
    "doc = df[df['labels'] == 'entertainment']['text'].sample(random_state = 123) # getting a random document under the entertainment label\n",
    "summarizer = LsaSummarizer()\n",
    "parser = PlaintextParser.from_string(doc.iloc[0].split('\\n', 1)[1], Tokenizer('english')) # passing first document through the parser\n",
    "summary = summarizer(parser.document, sentences_count = 5) # summarizing to 5 sentences\n",
    "\n",
    "for s in summary:\n",
    "    print(wrap(str(s))) # printing out the summary"
   ]
  },
  {
   "cell_type": "code",
   "execution_count": 12,
   "id": "fa5514b9-1bab-4a1d-937a-31d50eb5defc",
   "metadata": {},
   "outputs": [],
   "source": [
    "# adding the text into a variable to pass in the plain text parser\n",
    "\n",
    "text = df['text']"
   ]
  },
  {
   "cell_type": "code",
   "execution_count": 13,
   "id": "35124121-1672-4a7b-8571-34d3b8db1061",
   "metadata": {},
   "outputs": [],
   "source": [
    "# creating a function that summarizes the text, and then stores into a list that can be brought into the dataframe\n",
    "\n",
    "def summarize(text):\n",
    "    summarizer = LsaSummarizer() # assigning the summarizer to a variable\n",
    "    parser = PlaintextParser(text, Tokenizer('english')) # passing the text as string through and tokenizing \n",
    "    summary = summarizer(parser.document, sentences_count = 6) # summarizing document to 6 sentences\n",
    "    return [wrap(str(s)) for s in summary] # return the summary in a list"
   ]
  },
  {
   "cell_type": "code",
   "execution_count": 14,
   "id": "1894d121-5c65-40ca-90ab-f6ad76c71014",
   "metadata": {},
   "outputs": [
    {
     "data": {
      "text/html": [
       "<div>\n",
       "<style scoped>\n",
       "    .dataframe tbody tr th:only-of-type {\n",
       "        vertical-align: middle;\n",
       "    }\n",
       "\n",
       "    .dataframe tbody tr th {\n",
       "        vertical-align: top;\n",
       "    }\n",
       "\n",
       "    .dataframe thead th {\n",
       "        text-align: right;\n",
       "    }\n",
       "</style>\n",
       "<table border=\"1\" class=\"dataframe\">\n",
       "  <thead>\n",
       "    <tr style=\"text-align: right;\">\n",
       "      <th></th>\n",
       "      <th>text</th>\n",
       "      <th>labels</th>\n",
       "      <th>summary</th>\n",
       "    </tr>\n",
       "  </thead>\n",
       "  <tbody>\n",
       "    <tr>\n",
       "      <th>0</th>\n",
       "      <td>Ad sales boost Time Warner profit\n",
       "\n",
       "Quarterly p...</td>\n",
       "      <td>business</td>\n",
       "      <td>[The firm, which is now one of the biggest inv...</td>\n",
       "    </tr>\n",
       "    <tr>\n",
       "      <th>1</th>\n",
       "      <td>Dollar gains on Greenspan speech\n",
       "\n",
       "The dollar h...</td>\n",
       "      <td>business</td>\n",
       "      <td>[And Alan Greenspan highlighted the US governm...</td>\n",
       "    </tr>\n",
       "    <tr>\n",
       "      <th>2</th>\n",
       "      <td>Yukos unit buyer faces loan claim\n",
       "\n",
       "The owners ...</td>\n",
       "      <td>business</td>\n",
       "      <td>[The owners of embattled Russian oil giant Yuk...</td>\n",
       "    </tr>\n",
       "    <tr>\n",
       "      <th>3</th>\n",
       "      <td>High fuel prices hit BA's profits\n",
       "\n",
       "British Air...</td>\n",
       "      <td>business</td>\n",
       "      <td>[British Airways has blamed high fuel prices f...</td>\n",
       "    </tr>\n",
       "    <tr>\n",
       "      <th>4</th>\n",
       "      <td>Pernod takeover talk lifts Domecq\n",
       "\n",
       "Shares in U...</td>\n",
       "      <td>business</td>\n",
       "      <td>[Shares in UK drinks and food firm Allied Dome...</td>\n",
       "    </tr>\n",
       "  </tbody>\n",
       "</table>\n",
       "</div>"
      ],
      "text/plain": [
       "                                                text    labels  \\\n",
       "0  Ad sales boost Time Warner profit\n",
       "\n",
       "Quarterly p...  business   \n",
       "1  Dollar gains on Greenspan speech\n",
       "\n",
       "The dollar h...  business   \n",
       "2  Yukos unit buyer faces loan claim\n",
       "\n",
       "The owners ...  business   \n",
       "3  High fuel prices hit BA's profits\n",
       "\n",
       "British Air...  business   \n",
       "4  Pernod takeover talk lifts Domecq\n",
       "\n",
       "Shares in U...  business   \n",
       "\n",
       "                                             summary  \n",
       "0  [The firm, which is now one of the biggest inv...  \n",
       "1  [And Alan Greenspan highlighted the US governm...  \n",
       "2  [The owners of embattled Russian oil giant Yuk...  \n",
       "3  [British Airways has blamed high fuel prices f...  \n",
       "4  [Shares in UK drinks and food firm Allied Dome...  "
      ]
     },
     "execution_count": 14,
     "metadata": {},
     "output_type": "execute_result"
    }
   ],
   "source": [
    "# now running the summarize function to loop through the dataset and provide a summary on each article\n",
    "\n",
    "df['summary'] = df['text'].apply(summarize)\n",
    "df.head(5)"
   ]
  },
  {
   "cell_type": "code",
   "execution_count": 15,
   "id": "c9e52170-9f15-4e21-ae9d-9c1c1ee34108",
   "metadata": {},
   "outputs": [],
   "source": [
    "# switching df['text'] to string from object \n",
    "\n",
    "df['summary'] = pd.Series(df['summary'], dtype = 'string')"
   ]
  },
  {
   "cell_type": "code",
   "execution_count": 16,
   "id": "252c811d-e672-4867-9a3b-26bfeb4cb278",
   "metadata": {},
   "outputs": [],
   "source": [
    "# texts = df['summary']"
   ]
  },
  {
   "cell_type": "code",
   "execution_count": 17,
   "id": "f30981bd-c140-44bd-85fb-fc316c104432",
   "metadata": {},
   "outputs": [],
   "source": [
    "# using a dictionary to map and replace unwanted and unnecessary characters with blank space or blank\n",
    "\n",
    "def replace_text(text:str) -> str:\n",
    "    replacement_map = {\n",
    "    \"\\\\n\" : \" \",\n",
    "    \"\\'\"  : \" \",\n",
    "    \" , \" : \"\",\n",
    "    '\",'  : \"\",\n",
    "      \"[\" : \"\",\n",
    "      \"]\" : \"\",\n",
    "      '\"' : \"\",\n",
    "    }\n",
    "\n",
    "    for find, new in replacement_map.items():\n",
    "        text = text.lower() # lowercase all text as it is coming through\n",
    "        text = text.replace(find, new) # find and replace with the dictionary above\n",
    "    return text.strip()"
   ]
  },
  {
   "cell_type": "code",
   "execution_count": 18,
   "id": "b7d247dc-34ba-489a-8dd2-006f7249552f",
   "metadata": {},
   "outputs": [],
   "source": [
    "df['clean'] = df['summary'].apply(replace_text) # applying the formula "
   ]
  },
  {
   "cell_type": "code",
   "execution_count": 19,
   "id": "483e49ec-0e56-400a-9c8d-976f76e6ec49",
   "metadata": {},
   "outputs": [
    {
     "data": {
      "text/plain": [
       "'the firm, which is now one of the biggest investors in google, benefited from sales of high-speed internet connections and higher advert sales. its profits were buoyed by one-off gains which offset a profit dip at warner bros, and less users for aol. time warner said on friday that it now owns 8% of search-engine google. but its own internet business, aol, had has mixed fortunes.time warner s fourth quarter profits were slightly better than analysts  expectations.  for the full-year, timewarner posted a profit of $3.36bn, up 27% from its 2003 performance, while revenues grew 6.4% to $42.09bn.'"
      ]
     },
     "execution_count": 19,
     "metadata": {},
     "output_type": "execute_result"
    }
   ],
   "source": [
    "df['clean'][0] # accessing the first clean summary in the column"
   ]
  },
  {
   "cell_type": "code",
   "execution_count": 20,
   "id": "15d9bd05-9e4e-4754-b0f4-8f466e2cc835",
   "metadata": {},
   "outputs": [
    {
     "data": {
      "text/html": [
       "<div>\n",
       "<style scoped>\n",
       "    .dataframe tbody tr th:only-of-type {\n",
       "        vertical-align: middle;\n",
       "    }\n",
       "\n",
       "    .dataframe tbody tr th {\n",
       "        vertical-align: top;\n",
       "    }\n",
       "\n",
       "    .dataframe thead th {\n",
       "        text-align: right;\n",
       "    }\n",
       "</style>\n",
       "<table border=\"1\" class=\"dataframe\">\n",
       "  <thead>\n",
       "    <tr style=\"text-align: right;\">\n",
       "      <th></th>\n",
       "      <th>text</th>\n",
       "      <th>labels</th>\n",
       "      <th>summary</th>\n",
       "      <th>clean</th>\n",
       "    </tr>\n",
       "  </thead>\n",
       "  <tbody>\n",
       "    <tr>\n",
       "      <th>0</th>\n",
       "      <td>Ad sales boost Time Warner profit\n",
       "\n",
       "Quarterly p...</td>\n",
       "      <td>business</td>\n",
       "      <td>['The firm, which is now one of the biggest in...</td>\n",
       "      <td>the firm, which is now one of the biggest inve...</td>\n",
       "    </tr>\n",
       "    <tr>\n",
       "      <th>1</th>\n",
       "      <td>Dollar gains on Greenspan speech\n",
       "\n",
       "The dollar h...</td>\n",
       "      <td>business</td>\n",
       "      <td>[\"And Alan Greenspan highlighted the US govern...</td>\n",
       "      <td>and alan greenspan highlighted the us governme...</td>\n",
       "    </tr>\n",
       "    <tr>\n",
       "      <th>2</th>\n",
       "      <td>Yukos unit buyer faces loan claim\n",
       "\n",
       "The owners ...</td>\n",
       "      <td>business</td>\n",
       "      <td>['The owners of embattled Russian oil giant Yu...</td>\n",
       "      <td>the owners of embattled russian oil giant yuko...</td>\n",
       "    </tr>\n",
       "    <tr>\n",
       "      <th>3</th>\n",
       "      <td>High fuel prices hit BA's profits\n",
       "\n",
       "British Air...</td>\n",
       "      <td>business</td>\n",
       "      <td>['British Airways has blamed high fuel prices ...</td>\n",
       "      <td>british airways has blamed high fuel prices fo...</td>\n",
       "    </tr>\n",
       "    <tr>\n",
       "      <th>4</th>\n",
       "      <td>Pernod takeover talk lifts Domecq\n",
       "\n",
       "Shares in U...</td>\n",
       "      <td>business</td>\n",
       "      <td>[\"Shares in UK drinks and food firm Allied Dom...</td>\n",
       "      <td>shares in uk drinks and food firm allied domec...</td>\n",
       "    </tr>\n",
       "  </tbody>\n",
       "</table>\n",
       "</div>"
      ],
      "text/plain": [
       "                                                text    labels  \\\n",
       "0  Ad sales boost Time Warner profit\n",
       "\n",
       "Quarterly p...  business   \n",
       "1  Dollar gains on Greenspan speech\n",
       "\n",
       "The dollar h...  business   \n",
       "2  Yukos unit buyer faces loan claim\n",
       "\n",
       "The owners ...  business   \n",
       "3  High fuel prices hit BA's profits\n",
       "\n",
       "British Air...  business   \n",
       "4  Pernod takeover talk lifts Domecq\n",
       "\n",
       "Shares in U...  business   \n",
       "\n",
       "                                             summary  \\\n",
       "0  ['The firm, which is now one of the biggest in...   \n",
       "1  [\"And Alan Greenspan highlighted the US govern...   \n",
       "2  ['The owners of embattled Russian oil giant Yu...   \n",
       "3  ['British Airways has blamed high fuel prices ...   \n",
       "4  [\"Shares in UK drinks and food firm Allied Dom...   \n",
       "\n",
       "                                               clean  \n",
       "0  the firm, which is now one of the biggest inve...  \n",
       "1  and alan greenspan highlighted the us governme...  \n",
       "2  the owners of embattled russian oil giant yuko...  \n",
       "3  british airways has blamed high fuel prices fo...  \n",
       "4  shares in uk drinks and food firm allied domec...  "
      ]
     },
     "execution_count": 20,
     "metadata": {},
     "output_type": "execute_result"
    }
   ],
   "source": [
    "df.head(5)"
   ]
  },
  {
   "cell_type": "markdown",
   "id": "676c88e6-93f8-4ff7-8fbf-b084d8d71f7a",
   "metadata": {},
   "source": [
    "## Now bringing VADER into the mix to get the overall sentiment of the summary provided\n",
    "\n",
    "#### Scoring will be based on the compound score\n",
    "\n",
    "    sentiment = 'Neutral'\n",
    "    if compound >= 0.3:\n",
    "        sentiment = 'Positive'\n",
    "    elif compound <= -0.3:\n",
    "        sentiment = 'Negative'   \n",
    "## To end, the dataframe will have two additional columns created\n",
    "\n",
    "1. The compound score\n",
    "2. The sentiment based on that score (Positive, Negative, or Neutral)"
   ]
  },
  {
   "cell_type": "code",
   "execution_count": 21,
   "id": "d110313c-e985-411e-b522-9faa743703ce",
   "metadata": {},
   "outputs": [
    {
     "name": "stderr",
     "output_type": "stream",
     "text": [
      "[nltk_data] Downloading package vader_lexicon to\n",
      "[nltk_data]     C:\\Users\\chaco\\AppData\\Roaming\\nltk_data...\n",
      "[nltk_data]   Package vader_lexicon is already up-to-date!\n"
     ]
    }
   ],
   "source": [
    "## installing libraries for vader\n",
    "\n",
    "import nltk\n",
    "\n",
    "# Download the lexicon\n",
    "nltk.download(\"vader_lexicon\")\n",
    "\n",
    "# Import the lexicon \n",
    "from nltk.sentiment.vader import SentimentIntensityAnalyzer # importing vader library\n",
    "\n",
    "sid = SentimentIntensityAnalyzer() # storing the sentiment analyzer"
   ]
  },
  {
   "cell_type": "code",
   "execution_count": 22,
   "id": "8f7fb326-95e6-40af-9404-20199d5c440c",
   "metadata": {},
   "outputs": [],
   "source": [
    "# pulling the first 251 characters of the first clean summary in the column\n",
    "\n",
    "text = df['clean'][0][0:250]"
   ]
  },
  {
   "cell_type": "code",
   "execution_count": 23,
   "id": "5d090ac0-dc0e-4414-af06-5c0fabad2ed2",
   "metadata": {},
   "outputs": [
    {
     "data": {
      "text/plain": [
       "{'neg': 0.0, 'neu': 0.826, 'pos': 0.174, 'compound': 0.802}"
      ]
     },
     "execution_count": 23,
     "metadata": {},
     "output_type": "execute_result"
    }
   ],
   "source": [
    "# applying vader polarity scores to the sample text\n",
    "\n",
    "sid.polarity_scores(text)"
   ]
  },
  {
   "cell_type": "code",
   "execution_count": 24,
   "id": "a2b08f27-060f-4076-ba28-8a82ac0fbd78",
   "metadata": {},
   "outputs": [
    {
     "name": "stdout",
     "output_type": "stream",
     "text": [
      "<class 'pandas.core.frame.DataFrame'>\n",
      "RangeIndex: 2225 entries, 0 to 2224\n",
      "Data columns (total 4 columns):\n",
      " #   Column   Non-Null Count  Dtype \n",
      "---  ------   --------------  ----- \n",
      " 0   text     2225 non-null   string\n",
      " 1   labels   2225 non-null   object\n",
      " 2   summary  2225 non-null   string\n",
      " 3   clean    2225 non-null   object\n",
      "dtypes: object(2), string(2)\n",
      "memory usage: 69.7+ KB\n"
     ]
    }
   ],
   "source": [
    "# understanding the data landscape \n",
    "\n",
    "df.info()"
   ]
  },
  {
   "cell_type": "code",
   "execution_count": 25,
   "id": "62120170-b5ab-470a-9798-9484ddbc59be",
   "metadata": {},
   "outputs": [],
   "source": [
    "df['clean'] = pd.Series(df['clean'], dtype = 'string')"
   ]
  },
  {
   "cell_type": "code",
   "execution_count": 26,
   "id": "23467dd9-dd19-4881-930e-3937e3260a66",
   "metadata": {},
   "outputs": [],
   "source": [
    "# writing a function to get the sentiment of the overall summary\n",
    "\n",
    "def get_compound(df):\n",
    "    text = df['clean']\n",
    "    scores = sid.polarity_scores(text)\n",
    "    compound = scores['compound']\n",
    "    \n",
    "    sentiment = 'Neutral'\n",
    "    if compound >= 0.3:\n",
    "        sentiment = 'Positive'\n",
    "    elif compound <= -0.3:\n",
    "        sentiment = 'Negative'\n",
    "    df['compound'] = compound\n",
    "    df['sentiment'] = sentiment\n",
    "    return df\n",
    "\n",
    "df = df.apply(get_compound, axis = 1)"
   ]
  },
  {
   "cell_type": "code",
   "execution_count": 27,
   "id": "4552aeac-cb45-41e1-bd80-e32cd3c44462",
   "metadata": {},
   "outputs": [
    {
     "data": {
      "text/html": [
       "<div>\n",
       "<style scoped>\n",
       "    .dataframe tbody tr th:only-of-type {\n",
       "        vertical-align: middle;\n",
       "    }\n",
       "\n",
       "    .dataframe tbody tr th {\n",
       "        vertical-align: top;\n",
       "    }\n",
       "\n",
       "    .dataframe thead th {\n",
       "        text-align: right;\n",
       "    }\n",
       "</style>\n",
       "<table border=\"1\" class=\"dataframe\">\n",
       "  <thead>\n",
       "    <tr style=\"text-align: right;\">\n",
       "      <th></th>\n",
       "      <th>text</th>\n",
       "      <th>labels</th>\n",
       "      <th>summary</th>\n",
       "      <th>clean</th>\n",
       "      <th>compound</th>\n",
       "      <th>sentiment</th>\n",
       "    </tr>\n",
       "  </thead>\n",
       "  <tbody>\n",
       "    <tr>\n",
       "      <th>0</th>\n",
       "      <td>Ad sales boost Time Warner profit\\n\\nQuarterly...</td>\n",
       "      <td>business</td>\n",
       "      <td>['The firm, which is now one of the biggest in...</td>\n",
       "      <td>the firm, which is now one of the biggest inve...</td>\n",
       "      <td>0.9404</td>\n",
       "      <td>Positive</td>\n",
       "    </tr>\n",
       "    <tr>\n",
       "      <th>1</th>\n",
       "      <td>Dollar gains on Greenspan speech\\n\\nThe dollar...</td>\n",
       "      <td>business</td>\n",
       "      <td>[\"And Alan Greenspan highlighted the US govern...</td>\n",
       "      <td>and alan greenspan highlighted the us governme...</td>\n",
       "      <td>0.8122</td>\n",
       "      <td>Positive</td>\n",
       "    </tr>\n",
       "    <tr>\n",
       "      <th>2</th>\n",
       "      <td>Yukos unit buyer faces loan claim\\n\\nThe owner...</td>\n",
       "      <td>business</td>\n",
       "      <td>['The owners of embattled Russian oil giant Yu...</td>\n",
       "      <td>the owners of embattled russian oil giant yuko...</td>\n",
       "      <td>-0.5499</td>\n",
       "      <td>Negative</td>\n",
       "    </tr>\n",
       "    <tr>\n",
       "      <th>3</th>\n",
       "      <td>High fuel prices hit BA's profits\\n\\nBritish A...</td>\n",
       "      <td>business</td>\n",
       "      <td>['British Airways has blamed high fuel prices ...</td>\n",
       "      <td>british airways has blamed high fuel prices fo...</td>\n",
       "      <td>0.8625</td>\n",
       "      <td>Positive</td>\n",
       "    </tr>\n",
       "    <tr>\n",
       "      <th>4</th>\n",
       "      <td>Pernod takeover talk lifts Domecq\\n\\nShares in...</td>\n",
       "      <td>business</td>\n",
       "      <td>[\"Shares in UK drinks and food firm Allied Dom...</td>\n",
       "      <td>shares in uk drinks and food firm allied domec...</td>\n",
       "      <td>-0.4497</td>\n",
       "      <td>Negative</td>\n",
       "    </tr>\n",
       "  </tbody>\n",
       "</table>\n",
       "</div>"
      ],
      "text/plain": [
       "                                                text    labels  \\\n",
       "0  Ad sales boost Time Warner profit\\n\\nQuarterly...  business   \n",
       "1  Dollar gains on Greenspan speech\\n\\nThe dollar...  business   \n",
       "2  Yukos unit buyer faces loan claim\\n\\nThe owner...  business   \n",
       "3  High fuel prices hit BA's profits\\n\\nBritish A...  business   \n",
       "4  Pernod takeover talk lifts Domecq\\n\\nShares in...  business   \n",
       "\n",
       "                                             summary  \\\n",
       "0  ['The firm, which is now one of the biggest in...   \n",
       "1  [\"And Alan Greenspan highlighted the US govern...   \n",
       "2  ['The owners of embattled Russian oil giant Yu...   \n",
       "3  ['British Airways has blamed high fuel prices ...   \n",
       "4  [\"Shares in UK drinks and food firm Allied Dom...   \n",
       "\n",
       "                                               clean  compound sentiment  \n",
       "0  the firm, which is now one of the biggest inve...    0.9404  Positive  \n",
       "1  and alan greenspan highlighted the us governme...    0.8122  Positive  \n",
       "2  the owners of embattled russian oil giant yuko...   -0.5499  Negative  \n",
       "3  british airways has blamed high fuel prices fo...    0.8625  Positive  \n",
       "4  shares in uk drinks and food firm allied domec...   -0.4497  Negative  "
      ]
     },
     "execution_count": 27,
     "metadata": {},
     "output_type": "execute_result"
    }
   ],
   "source": [
    "df.head(5)"
   ]
  },
  {
   "cell_type": "code",
   "execution_count": 28,
   "id": "65d85020-9853-4be0-bf19-57905c8aae54",
   "metadata": {},
   "outputs": [
    {
     "data": {
      "text/plain": [
       "Positive    1343\n",
       "Negative     606\n",
       "Neutral      276\n",
       "Name: sentiment, dtype: int64"
      ]
     },
     "execution_count": 28,
     "metadata": {},
     "output_type": "execute_result"
    }
   ],
   "source": [
    "# looking at all different values in the sentiment category and the count per each value\n",
    "\n",
    "df['sentiment'].value_counts()"
   ]
  },
  {
   "cell_type": "markdown",
   "id": "c195b547-1013-4224-adc6-74bec219ff8a",
   "metadata": {},
   "source": [
    "## Keybert\n",
    "\n",
    "### What is KeyBERT?\n",
    "\n",
    "+ KeyBERT is a minimal and easy-to-use keyword extraction technique that leverages BERT embeddings to create keywords and keyphrases that are most similar to a document.\n",
    "\n",
    "### How it works\n",
    "\n",
    "1. Document embeddings are extracted with BERT to get document-level representation\n",
    "2. Word embeddings are then extracted for N-gram words/phrases\n",
    "3. Cosine similarity is then used to find the words that are most similar to the document\n",
    "\n",
    "(All credits go to https://github.com/MaartenGr/KeyBERT)"
   ]
  },
  {
   "cell_type": "code",
   "execution_count": 29,
   "id": "413694e1-a956-49ea-928c-85dcf6341c0a",
   "metadata": {},
   "outputs": [],
   "source": [
    "from keybert import KeyBERT\n",
    "\n",
    "bert = KeyBERT()"
   ]
  },
  {
   "cell_type": "code",
   "execution_count": 30,
   "id": "9267d767-57de-448a-b2e2-348fbf105264",
   "metadata": {},
   "outputs": [],
   "source": [
    "def keyword_extractor(text):\n",
    "    keywords = bert.extract_keywords(text, keyphrase_ngram_range = (3, 5), use_mmr = 'True', diversity = 0.6, stop_words = 'english', top_n = 10)\n",
    "    # keyphrase_ngram_range : length of extracted keywords / phrases\n",
    "    # use_mmr : maximal marginal relevance \n",
    "    # diversity :  if mmr is set to true, higher diversity the less overlap there will be between keyphrases / words extracted\n",
    "    # stop_words : remove common words with little to not meaning to the sentence - Ie. the, it, is, are\n",
    "    # top_n : return number of keywords/keyphrases\n",
    "    results = []\n",
    "    for scored_keywords in keywords:\n",
    "        for keyword in scored_keywords:\n",
    "            if isinstance(keyword, str):\n",
    "                results.append(keyword)\n",
    "    return results"
   ]
  },
  {
   "cell_type": "code",
   "execution_count": 31,
   "id": "01fa13b0-d65b-4b7f-b990-b99ab555e065",
   "metadata": {},
   "outputs": [],
   "source": [
    "df['keywords'] = df['clean'].apply(keyword_extractor)"
   ]
  },
  {
   "cell_type": "code",
   "execution_count": 32,
   "id": "614bbb53-31fb-4ef5-bd3f-4d90bf54f945",
   "metadata": {},
   "outputs": [
    {
     "data": {
      "text/html": [
       "<div>\n",
       "<style scoped>\n",
       "    .dataframe tbody tr th:only-of-type {\n",
       "        vertical-align: middle;\n",
       "    }\n",
       "\n",
       "    .dataframe tbody tr th {\n",
       "        vertical-align: top;\n",
       "    }\n",
       "\n",
       "    .dataframe thead th {\n",
       "        text-align: right;\n",
       "    }\n",
       "</style>\n",
       "<table border=\"1\" class=\"dataframe\">\n",
       "  <thead>\n",
       "    <tr style=\"text-align: right;\">\n",
       "      <th></th>\n",
       "      <th>text</th>\n",
       "      <th>labels</th>\n",
       "      <th>summary</th>\n",
       "      <th>clean</th>\n",
       "      <th>compound</th>\n",
       "      <th>sentiment</th>\n",
       "      <th>keywords</th>\n",
       "    </tr>\n",
       "  </thead>\n",
       "  <tbody>\n",
       "    <tr>\n",
       "      <th>0</th>\n",
       "      <td>Ad sales boost Time Warner profit\\n\\nQuarterly...</td>\n",
       "      <td>business</td>\n",
       "      <td>['The firm, which is now one of the biggest in...</td>\n",
       "      <td>the firm, which is now one of the biggest inve...</td>\n",
       "      <td>0.9404</td>\n",
       "      <td>Positive</td>\n",
       "      <td>[time warner fourth quarter profits, owns sear...</td>\n",
       "    </tr>\n",
       "    <tr>\n",
       "      <th>1</th>\n",
       "      <td>Dollar gains on Greenspan speech\\n\\nThe dollar...</td>\n",
       "      <td>business</td>\n",
       "      <td>[\"And Alan Greenspan highlighted the US govern...</td>\n",
       "      <td>and alan greenspan highlighted the us governme...</td>\n",
       "      <td>0.8122</td>\n",
       "      <td>Positive</td>\n",
       "      <td>[chinese policy meantime federal reserve, high...</td>\n",
       "    </tr>\n",
       "    <tr>\n",
       "      <th>2</th>\n",
       "      <td>Yukos unit buyer faces loan claim\\n\\nThe owner...</td>\n",
       "      <td>business</td>\n",
       "      <td>['The owners of embattled Russian oil giant Yu...</td>\n",
       "      <td>the owners of embattled russian oil giant yuko...</td>\n",
       "      <td>-0.5499</td>\n",
       "      <td>Negative</td>\n",
       "      <td>[loan yukos owner menatep, yugansk secured ass...</td>\n",
       "    </tr>\n",
       "    <tr>\n",
       "      <th>3</th>\n",
       "      <td>High fuel prices hit BA's profits\\n\\nBritish A...</td>\n",
       "      <td>business</td>\n",
       "      <td>['British Airways has blamed high fuel prices ...</td>\n",
       "      <td>british airways has blamed high fuel prices fo...</td>\n",
       "      <td>0.8625</td>\n",
       "      <td>Positive</td>\n",
       "      <td>[ba estimated annual surcharge revenues, resul...</td>\n",
       "    </tr>\n",
       "    <tr>\n",
       "      <th>4</th>\n",
       "      <td>Pernod takeover talk lifts Domecq\\n\\nShares in...</td>\n",
       "      <td>business</td>\n",
       "      <td>[\"Shares in UK drinks and food firm Allied Dom...</td>\n",
       "      <td>shares in uk drinks and food firm allied domec...</td>\n",
       "      <td>-0.4497</td>\n",
       "      <td>Negative</td>\n",
       "      <td>[glenmorangie scotland premier whisky firms, d...</td>\n",
       "    </tr>\n",
       "  </tbody>\n",
       "</table>\n",
       "</div>"
      ],
      "text/plain": [
       "                                                text    labels  \\\n",
       "0  Ad sales boost Time Warner profit\\n\\nQuarterly...  business   \n",
       "1  Dollar gains on Greenspan speech\\n\\nThe dollar...  business   \n",
       "2  Yukos unit buyer faces loan claim\\n\\nThe owner...  business   \n",
       "3  High fuel prices hit BA's profits\\n\\nBritish A...  business   \n",
       "4  Pernod takeover talk lifts Domecq\\n\\nShares in...  business   \n",
       "\n",
       "                                             summary  \\\n",
       "0  ['The firm, which is now one of the biggest in...   \n",
       "1  [\"And Alan Greenspan highlighted the US govern...   \n",
       "2  ['The owners of embattled Russian oil giant Yu...   \n",
       "3  ['British Airways has blamed high fuel prices ...   \n",
       "4  [\"Shares in UK drinks and food firm Allied Dom...   \n",
       "\n",
       "                                               clean  compound sentiment  \\\n",
       "0  the firm, which is now one of the biggest inve...    0.9404  Positive   \n",
       "1  and alan greenspan highlighted the us governme...    0.8122  Positive   \n",
       "2  the owners of embattled russian oil giant yuko...   -0.5499  Negative   \n",
       "3  british airways has blamed high fuel prices fo...    0.8625  Positive   \n",
       "4  shares in uk drinks and food firm allied domec...   -0.4497  Negative   \n",
       "\n",
       "                                            keywords  \n",
       "0  [time warner fourth quarter profits, owns sear...  \n",
       "1  [chinese policy meantime federal reserve, high...  \n",
       "2  [loan yukos owner menatep, yugansk secured ass...  \n",
       "3  [ba estimated annual surcharge revenues, resul...  \n",
       "4  [glenmorangie scotland premier whisky firms, d...  "
      ]
     },
     "execution_count": 32,
     "metadata": {},
     "output_type": "execute_result"
    }
   ],
   "source": [
    "df.head(5)"
   ]
  }
 ],
 "metadata": {
  "kernelspec": {
   "display_name": "Python 3",
   "language": "python",
   "name": "python3"
  },
  "language_info": {
   "codemirror_mode": {
    "name": "ipython",
    "version": 3
   },
   "file_extension": ".py",
   "mimetype": "text/x-python",
   "name": "python",
   "nbconvert_exporter": "python",
   "pygments_lexer": "ipython3",
   "version": "3.8.8"
  }
 },
 "nbformat": 4,
 "nbformat_minor": 5
}
